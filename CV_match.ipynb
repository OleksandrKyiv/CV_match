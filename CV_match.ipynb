{
 "cells": [
  {
   "cell_type": "code",
   "execution_count": 1,
   "metadata": {},
   "outputs": [
    {
     "data": {
      "text/plain": [
       "'/Users/oleksandrkucher/Desktop/Все данные/Для синхронизации/Личное/Python/2020/Crawling'"
      ]
     },
     "execution_count": 1,
     "metadata": {},
     "output_type": "execute_result"
    }
   ],
   "source": [
    "pwd"
   ]
  },
  {
   "cell_type": "code",
   "execution_count": 106,
   "metadata": {},
   "outputs": [],
   "source": [
    "import re\n",
    "import spacy \n",
    "from gensim.parsing.preprocessing import remove_stopwords\n",
    "nlp = spacy.load('en_core_web_md') # pretrained spicy model"
   ]
  },
  {
   "cell_type": "code",
   "execution_count": 9,
   "metadata": {},
   "outputs": [],
   "source": [
    "cv = \"\"\"\n",
    "NATALIA KUCHER\n",
    "London, UK | hr.natalia.kucher@gmail.com | https://www.linkedin.com/in/nataliasworld/ | +44 07470525043\n",
    "An ambitious individual, who is ready to take responsibility in a full cycle of the recruitment practices. Possess a proven experience in employee engagement, sourcing, interviewing and mentoring. Able to add value to any team, whilst having significant leadership and organisational skills. Strong understanding of hiring for technical positions with 2+ years of the experience working with international tech-clients.\n",
    "EXPERIENCE\n",
    "TALENTUCH – London, United Kingdom (Nov 2019 – Present)\n",
    "Lead IT Recruiter\n",
    "• Lead the full cycle of recruitment processes, identifying top talent within Microsoft Dynamics area and General IT: conducted more than 300 interviews and brought on average £10’000/month to the company by closing 2-3 vacancies\n",
    "• Experience in closing following senior technical positions: DevOps, Data Engineers, Java, JavaScript (React), Python, Full Stack (Node.Js, React.Js), .Net, AWS stack, Microsoft Dynamics stack, SAP\n",
    "• Deep knowledge of various sourcing methodologies and tools such as: CRM, Boolean searching, X-ray, engineering/business social networks and other unique methods\n",
    "• Build partnerships and effectively influence clients as well as cross-functional stakeholders (25 client overall)\n",
    "• Negotiate complex offers to close the vacancy, creating an exceptional candidate experience during, before and after the interview process\n",
    "• Successfully lead the team of three recruiters and mentor newcomers\n",
    "• Develop and maintain a strategy for Employer Branding (curate visual and video social media content for job descriptions and creatively contributed with recruiting ideas to identify, attract, and engage top talent: helped to grow LinkedIn subscriptions by more than 1500 followers)\n",
    "MOBILUNITY – Ukraine, Kyiv (Oct 2018 – Aug 2019)\n",
    "Resource Manager Assistant\n",
    "• Was responsible for smooth cooperation between recruitment department and teams of developers: managed more than 15 projects with 100+ developers\n",
    "• Led onboarding, adaptation, trial closure and exit interviews for 20+ newcomers\n",
    "• Was responsible for recurrent performance management review of developers and trial closure\n",
    "• Helped recruitment department in resources allocation of existing and new projects\n",
    "• Developed CVs for engineers: more than 90% of those employees were then hired by international clients\n",
    "• Developed weekly Excel reports featuring client’s dedicated teams’ performance metrics\n",
    "PUBLIC BROADCASTING COMPANY OF UKRAINE – Ukraine, Kyiv (May 2015 – Jun 2017)\n",
    "Journalist\n",
    "• Worked as a journalist at \"Kyiv\" TV channel and \"Promin\" radio station. Was involved in shooting reports and writing scripts. Took numerous interviews, which significantly improved my confidence, communication skills and psychological acumen. Worked as a “live” correspondent for morning news\n",
    "EDUCATION\n",
    "UNIVERSITY OF LEEDS - Leeds, United Kingdom (2017-2018)\n",
    "MA Human Resource Management (2:1)\n",
    "• Core Modules: Human Resource Management, Occupational Psychology, Employment Relations, Training and Development, HRM Research Methods\n",
    "• Dissertation: \"Flexible working arrangements in Ukraine: A case study of the law firm\"\n",
    "KYIV SHEVCHENKO UNIVERSITY – BSc INTERNATIONAL JOURNALISM (2013 – 2017)\n",
    "BSc Journalism\n",
    "• Each session of this course offered to experience a “hat” of many roles: Recruiter, Project Manager and HR. The qualification also covered regulatory domain: roles focused on employment law and protecting the rights of employees\n",
    "CERTIFICATION\n",
    "CIPD Qualified (7 Level) – HR AND L&D, SUCCESSFULLY COMPLETED (2017-2018) SKILLS\n",
    "• People-oriented: possess confidence and experience to mentor people and communicate/negotiate with clients • Proactive: always find ways to improve process and able to bring forward the change quickly\n",
    "• Teamwork: able to quickly build solid relationships with people by creating mutual understanding and trust\n",
    "• IT literate: MS PowerPoint and Excel, Purely HR, ATC, Nimble, Redmine, Cleverstaff, Trello, Canva\n",
    "• Creative: consistently publish blogs on HR topics at https://medium.com/@natalias.world LANGUAGES\n",
    "• English (fluent), Russian (native), Ukrainian (native)\n",
    "\"\"\""
   ]
  },
  {
   "cell_type": "code",
   "execution_count": 26,
   "metadata": {},
   "outputs": [],
   "source": [
    "responsib = \"\"\"Responsibilities:\n",
    "• Excellent negotiation skills and professional presence; able to partner effectively with senior stakeholders externally and internally\n",
    "• Provide a proactive and targeted approach to attract the best talent to Amazon\n",
    "• Partner with stakeholders in the business to provide first-class recruiting support and advice throughout the end to end hiring process and on overall hiring strategy\n",
    "• Operate as the expert in industry best practices, monitoring new trends and opportunities to consistently raise the standard for hiring to the organization\n",
    "• Manage the recruitment process from initial candidate contact to offer ensuring an outstanding candidate experience.\n",
    "• Analyze and implement process improvements.\n",
    "• Develop creative and effective sourcing strategies and plans to build pipelines for top candidates across all areas of the organization\n",
    "• Oversee relationships with recruitment preferred suppliers and other external organizations\n",
    "• Implement and enforce consistency with our recruiting policies and procedure\n",
    "• Represent the company at external events when required\n",
    "• Ensure the quality of our recruiting process is consistent by conducting skills training for managers\n",
    "• Ensure 100 % data accuracy of our recruitment database. Track and analyze statistical recruiting data to determine effectiveness of all recruiting activities, including time to hire and cost per hire.\n",
    "• Undertake referencing for senior level candidates\n",
    "• Develop and deliver on EU wide recruitment projects as defined by the local team EU teams.\n",
    "• Communicate effectively and partner with HR and Training teams, ensuring collective objectives are achieved\n",
    "• Work to develop the employer brand through advertising, promotion, and community involvement with hiring focused local events\n",
    "\"\"\""
   ]
  },
  {
   "cell_type": "code",
   "execution_count": 112,
   "metadata": {},
   "outputs": [
    {
     "data": {
      "text/plain": [
       "'Negotiate complex offers close vacancy creating exceptional candidate experience interview process'"
      ]
     },
     "execution_count": 112,
     "metadata": {},
     "output_type": "execute_result"
    }
   ],
   "source": [
    "cv_point = cv.split('•')[5].strip()\n",
    "cv_point = re.sub(r'[^\\w\\s]','',cv_point) # remove punctuation\n",
    "cv_point = remove_stopwords(cv_point) # remove stop words\n",
    "cv_point"
   ]
  },
  {
   "cell_type": "code",
   "execution_count": 113,
   "metadata": {},
   "outputs": [
    {
     "data": {
      "text/plain": [
       "'Excellent negotiation skills professional presence able partner effectively senior stakeholders externally internally'"
      ]
     },
     "execution_count": 113,
     "metadata": {},
     "output_type": "execute_result"
    }
   ],
   "source": [
    "responsib_points = responsib.replace('\\n', '').split('•')[1].strip()\n",
    "responsib_points = re.sub(r'[^\\w\\s]','',responsib_points)\n",
    "responsib_points = remove_stopwords(responsib_points) # remove stop words\n",
    "responsib_points"
   ]
  },
  {
   "cell_type": "code",
   "execution_count": 114,
   "metadata": {},
   "outputs": [],
   "source": [
    "cv_nlp = nlp(cv_point)"
   ]
  },
  {
   "cell_type": "code",
   "execution_count": 115,
   "metadata": {},
   "outputs": [
    {
     "name": "stdout",
     "output_type": "stream",
     "text": [
      "Negotiate\n",
      "complex\n",
      "offers\n",
      "close\n",
      "vacancy\n",
      "creating\n",
      "exceptional\n",
      "candidate\n",
      "experience\n",
      "interview\n",
      "process\n"
     ]
    }
   ],
   "source": [
    "for word in cv_nlp:\n",
    "    print(word.text)"
   ]
  },
  {
   "cell_type": "code",
   "execution_count": 116,
   "metadata": {},
   "outputs": [
    {
     "name": "stdout",
     "output_type": "stream",
     "text": [
      "Negotiate VERB\n",
      "complex ADJ\n",
      "offers VERB\n",
      "close ADJ\n",
      "vacancy NOUN\n",
      "creating VERB\n",
      "exceptional ADJ\n",
      "candidate NOUN\n",
      "experience NOUN\n",
      "interview NOUN\n",
      "process NOUN\n"
     ]
    }
   ],
   "source": [
    "for word in cv_nlp:\n",
    "    print(word.text,  word.pos_)"
   ]
  }
 ],
 "metadata": {
  "kernelspec": {
   "display_name": "Python 3",
   "language": "python",
   "name": "python3"
  },
  "language_info": {
   "codemirror_mode": {
    "name": "ipython",
    "version": 3
   },
   "file_extension": ".py",
   "mimetype": "text/x-python",
   "name": "python",
   "nbconvert_exporter": "python",
   "pygments_lexer": "ipython3",
   "version": "3.7.4"
  }
 },
 "nbformat": 4,
 "nbformat_minor": 2
}
